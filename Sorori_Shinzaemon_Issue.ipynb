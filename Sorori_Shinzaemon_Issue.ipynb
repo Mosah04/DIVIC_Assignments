{
  "nbformat": 4,
  "nbformat_minor": 0,
  "metadata": {
    "colab": {
      "provenance": []
    },
    "kernelspec": {
      "name": "python3",
      "display_name": "Python 3"
    },
    "language_info": {
      "name": "python"
    }
  },
  "cells": [
    {
      "cell_type": "markdown",
      "source": [
        "**[Problem 1] Number of grains of rice on the 100th day**"
      ],
      "metadata": {
        "id": "6e9dsVniaUdZ"
      }
    },
    {
      "cell_type": "code",
      "execution_count": null,
      "metadata": {
        "colab": {
          "base_uri": "https://localhost:8080/",
          "height": 524
        },
        "id": "PWKDnafTaJD-",
        "outputId": "8c017ab5-7fe5-4e5d-a65c-89c95c1169fa"
      },
      "outputs": [
        {
          "output_type": "stream",
          "name": "stdout",
          "text": [
            "The number of grains of rice the 100th day is 1267650600228229401496703205376\n",
            "\n",
            "------------A line graph to represent the change in the number of rice grains below---------------\n"
          ]
        },
        {
          "output_type": "display_data",
          "data": {
            "text/plain": [
              "<Figure size 640x480 with 1 Axes>"
            ],
            "image/png": "[encoded data removed]"
          },
          "metadata": {}
        }
      ],
      "source": [
        "import matplotlib.pyplot as plt\n",
        "%matplotlib inline\n",
        "\n",
        "number_of_grains = 1 # The number of grains of rice the first day is one\n",
        "no_of_grains_each_day = [number_of_grains] # A list to hold the number of grains of rice received on each day. I added the number of grains on the first day.\n",
        "no_of_grains_from_day1 = [number_of_grains]  #Another list to hold the number of grains of rice from day 1. I added the total number of grains on the first day.\n",
        "for i in range(0, 100):\n",
        "  number_of_grains *= 2 #doubling the number of rice each day\n",
        "  no_of_grains_each_day.append(number_of_grains) # Adding the number of grains accordingly to the number of days\n",
        "  no_of_grains_from_day1.append(no_of_grains_each_day[-1] + no_of_grains_from_day1[-1]) # Filling the list by adding the last value in each list\n",
        "print('The number of grains of rice the 100th day is {}\\n'.format(number_of_grains))\n",
        "print('------------A line graph to represent the change in the number of rice grains below---------------')\n",
        "plt.title(\"Change in the number of rice grains\")\n",
        "plt.xlabel(\"number of days\")\n",
        "plt.ylabel(\"number of rice\")\n",
        "plt.plot(no_of_grains_each_day, color=\"blue\") # The number of grains received on each day will be displayed in blue\n",
        "plt.plot(no_of_grains_from_day1, color=\"orange\") # The number of grains received from day will be displayed in orange\n",
        "plt.show()"
      ]
    },
    {
      "cell_type": "markdown",
      "source": [
        "**[Problem 2] Number of rice grains outside of the 100th day**"
      ],
      "metadata": {
        "id": "PvLJkiezkKqw"
      }
    },
    {
      "cell_type": "code",
      "source": [
        "def compute_sorori_shinzaemon(n_days=100):\n",
        "    '''A function that calculates the number of rice grains per day in the rice anecdote of Shinzaemon Sorori.\n",
        "\n",
        "    Parameters\n",
        "    -----------\n",
        "    n_days: int\n",
        "        Number of days to get rice (default : 100)\n",
        "\n",
        "    Returns\n",
        "    -------\n",
        "    no_of_grains_each_day : list\n",
        "        List of the number of rice you get one day (list length equals n_days)\n",
        "    no_of_grains_from_day1 : list\n",
        "        List of total number of rice received by a certain day (list length is equal to n_days)\n",
        "    '''\n",
        "    import matplotlib.pyplot as plt\n",
        "    %matplotlib inline\n",
        "\n",
        "    number_of_grains = 1 # The number of grains of rice the first day is one\n",
        "    no_of_grains_each_day = [number_of_grains] # A list to hold the number of grains of rice received on each day. I added the number of grains on the first day.\n",
        "    no_of_grains_from_day1 = [number_of_grains]  #Another list to hold the number of grains of rice from day 1. I added the total number of grains on the first day.\n",
        "    for i in range(0, 100):\n",
        "      number_of_grains *= 2 #doubling the number of rice each day\n",
        "      no_of_grains_each_day.append(number_of_grains) # Adding the number of grains accordingly to the number of days\n",
        "      no_of_grains_from_day1.append(no_of_grains_each_day[-1] + no_of_grains_from_day1[-1]) # Filling the list by adding the last value in each list\n",
        "\n",
        "\n",
        "    return no_of_grains_each_day, no_of_grains_from_day1\n",
        "\n",
        "list_n_grains, list_total_grains = compute_sorori_shinzaemon(n_days=10)"
      ],
      "metadata": {
        "id": "2MjxCjy5kRXQ"
      },
      "execution_count": 12,
      "outputs": []
    },
    {
      "cell_type": "markdown",
      "source": [
        "**[Problem 3] How many people can live for how many days with the rice we get?**"
      ],
      "metadata": {
        "id": "cfqEGWFvMjVs"
      }
    },
    {
      "cell_type": "code",
      "source": [
        "'''\n",
        "  The recommended amount of rice per person for a meal is 70g. Considering three\n",
        "  meals per day and a weigth of 0.04g for a grain of rice, the amount of grain of rice\n",
        "  needed per day person is (70 * 3) / 0.04 = 5250\n",
        "  Let's write a function to calculate how many people can live for how many days with a given amount of rice\n",
        "'''\n",
        "\n",
        "def compute_no_of_days_for_amount_of_rice(number_of_grains=5250, number_of_people=1):\n",
        "  '''A function that calculates the number of days to live for a given number of people and number of grains of rice.\n",
        "     How does it work?\n",
        "        1 person         --->  5250 grains / 1 day\n",
        "        number_of_people --->  number_of_grains / no_of_days_to_live\n",
        "\n",
        "        We obtain no_of_days_to_live = number_of_grains / (number_of_people * 5250)\n",
        "    Parameters\n",
        "    -----------\n",
        "    number_of_grains: int\n",
        "        Number of grains of rice (default : 5250)\n",
        "    number_of_people: int\n",
        "        Number of people (default : 1)\n",
        "\n",
        "    Returns\n",
        "    -------\n",
        "    no_of_days_to_live : int\n",
        "        Number of day to live accordingly to the amount of rice and the number of people\n",
        "  '''\n",
        "  no_of_days_to_live = int( number_of_grains / (number_of_people * 5250))\n",
        "  return no_of_days_to_live"
      ],
      "metadata": {
        "id": "L5DOscPJNDG5"
      },
      "execution_count": 20,
      "outputs": []
    }
  ]
}